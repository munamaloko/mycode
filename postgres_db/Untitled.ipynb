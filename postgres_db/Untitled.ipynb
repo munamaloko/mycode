{
 "cells": [
  {
   "cell_type": "code",
   "execution_count": 2,
   "id": "82620db7-156c-4753-80a0-87136e4dbb89",
   "metadata": {},
   "outputs": [
    {
     "name": "stdout",
     "output_type": "stream",
     "text": [
      "Opened database successfully\n"
     ]
    },
    {
     "ename": "NameError",
     "evalue": "name 'cursor' is not defined",
     "output_type": "error",
     "traceback": [
      "\u001b[0;31m---------------------------------------------------------------------------\u001b[0m",
      "\u001b[0;31mNameError\u001b[0m                                 Traceback (most recent call last)",
      "Cell \u001b[0;32mIn [2], line 11\u001b[0m\n\u001b[1;32m      8\u001b[0m conn \u001b[38;5;241m=\u001b[39m psycopg2\u001b[38;5;241m.\u001b[39mconnect(connect_str)\n\u001b[1;32m      9\u001b[0m \u001b[38;5;28mprint\u001b[39m(\u001b[38;5;124m\"\u001b[39m\u001b[38;5;124mOpened database successfully\u001b[39m\u001b[38;5;124m\"\u001b[39m)\n\u001b[0;32m---> 11\u001b[0m \u001b[43mcursor\u001b[49m\u001b[38;5;241m.\u001b[39mexecute(\u001b[38;5;124m\"\u001b[39m\u001b[38;5;124mSELECT * FROM COMPANY\u001b[39m\u001b[38;5;124m\"\u001b[39m)\n\u001b[1;32m     13\u001b[0m selects \u001b[38;5;241m=\u001b[39m cursor\u001b[38;5;241m.\u001b[39mfetchall()\n\u001b[1;32m     15\u001b[0m selects \u001b[38;5;241m=\u001b[39m cursor\u001b[38;5;241m.\u001b[39mexecute(\u001b[38;5;124m\"\u001b[39m\u001b[38;5;124mSELECT id, name, address, salary from COMPANY\u001b[39m\u001b[38;5;124m\"\u001b[39m)\n",
      "\u001b[0;31mNameError\u001b[0m: name 'cursor' is not defined"
     ]
    }
   ],
   "source": [
    "import psycopg2\n",
    "user = \"zach\"\n",
    "passw = \"test1234\"\n",
    "\n",
    "# f-string defines where to connect to\n",
    "connect_str = f\"dbname='testpython' user='{user}' host='localhost' password='{passw}'\"\n",
    "\n",
    "conn = psycopg2.connect(connect_str)\n",
    "print(\"Opened database successfully\")\n",
    "\n",
    "cursor.execute(\"SELECT * FROM COMPANY\")\n",
    "\n",
    "selects = cursor.fetchall()\n",
    "\n",
    "selects = cursor.execute(\"SELECT id, name, address, salary from COMPANY\")\n",
    "for row in selects:\n",
    "    print(\"ID = \", row[0])\n",
    "    print(\"NAME = \", row[1])\n",
    "    print(\"ADDRESS = \", row[2])\n",
    "    print(\"SALARY = \", row[3], \"\\n\")\n",
    "\n",
    "print(\"Operation done successfully\")\n",
    "#conn.close()\n"
   ]
  },
  {
   "cell_type": "code",
   "execution_count": null,
   "id": "bcf753df-2e66-402c-9300-4f009cc83a3f",
   "metadata": {},
   "outputs": [],
   "source": []
  }
 ],
 "metadata": {
  "kernelspec": {
   "display_name": "Python 3 (ipykernel)",
   "language": "python",
   "name": "python3"
  },
  "language_info": {
   "codemirror_mode": {
    "name": "ipython",
    "version": 3
   },
   "file_extension": ".py",
   "mimetype": "text/x-python",
   "name": "python",
   "nbconvert_exporter": "python",
   "pygments_lexer": "ipython3",
   "version": "3.10.6"
  }
 },
 "nbformat": 4,
 "nbformat_minor": 5
}
