{
 "cells": [
  {
   "cell_type": "code",
   "execution_count": 1,
   "id": "a331bbf3-8137-4614-9cca-ffa76da39206",
   "metadata": {},
   "outputs": [],
   "source": [
    "import pandas as pd\n",
    "\n",
    "# define the name of our xls file\n",
    "excel_file = 'movies.xls'"
   ]
  },
  {
   "cell_type": "code",
   "execution_count": 4,
   "id": "fe10dba6-a7b6-4005-a0cf-722c6ac01d72",
   "metadata": {},
   "outputs": [
    {
     "ename": "NameError",
     "evalue": "name 'movies' is not defined",
     "output_type": "error",
     "traceback": [
      "\u001b[0;31m---------------------------------------------------------------------------\u001b[0m",
      "\u001b[0;31mNameError\u001b[0m                                 Traceback (most recent call last)",
      "Cell \u001b[0;32mIn [4], line 4\u001b[0m\n\u001b[1;32m      1\u001b[0m \u001b[38;5;66;03m# create a DataFrame (DF) object. EASY!\u001b[39;00m\n\u001b[1;32m      2\u001b[0m \u001b[38;5;66;03m# because we did not specify a sheet\u001b[39;00m\n\u001b[1;32m      3\u001b[0m \u001b[38;5;66;03m# only the first sheet was read into the DF\u001b[39;00m\n\u001b[0;32m----> 4\u001b[0m movies \u001b[38;5;241m=\u001b[39m pd\u001b[38;5;241m.\u001b[39mread_excel(\u001b[43mmovies\u001b[49m\u001b[38;5;241m.\u001b[39mxls)\n",
      "\u001b[0;31mNameError\u001b[0m: name 'movies' is not defined"
     ]
    }
   ],
   "source": [
    "# create a DataFrame (DF) object. EASY!\n",
    "# because we did not specify a sheet\n",
    "# only the first sheet was read into the DF\n",
    "movies = pd.read_excel(movies.xls)\n"
   ]
  },
  {
   "cell_type": "code",
   "execution_count": null,
   "id": "8a77d175-2336-4f3a-b153-709410ae9ba0",
   "metadata": {},
   "outputs": [],
   "source": [
    "# show the first five rows of our DF\n",
    "# DF has 5 rows and 25 columns (indexed by integer)\n",
    "movies.head()\n"
   ]
  }
 ],
 "metadata": {
  "kernelspec": {
   "display_name": "Python 3 (ipykernel)",
   "language": "python",
   "name": "python3"
  },
  "language_info": {
   "codemirror_mode": {
    "name": "ipython",
    "version": 3
   },
   "file_extension": ".py",
   "mimetype": "text/x-python",
   "name": "python",
   "nbconvert_exporter": "python",
   "pygments_lexer": "ipython3",
   "version": "3.10.6"
  }
 },
 "nbformat": 4,
 "nbformat_minor": 5
}
