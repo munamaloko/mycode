{
 "cells": [
  {
   "cell_type": "code",
   "execution_count": 1,
   "id": "e9acfed2-563e-426b-9b60-5b1f3d87bcc8",
   "metadata": {},
   "outputs": [],
   "source": [
    "def text2paragraphs(filename, min_size=1):\n",
    "    \"\"\" A text contained in the file 'filename' will be read \n",
    "    and chopped into paragraphs.\n",
    "    Paragraphs with a string length less than min_size will be ignored.\n",
    "    A list of paragraph strings will be returned\"\"\"\n",
    "    \n",
    "    txt = open(filename).read()\n",
    "    paragraphs = [para for para in txt.split(\"\\n\\n\") if len(para) > min_size]\n",
    "    return paragraphs\n"
   ]
  },
  {
   "cell_type": "code",
   "execution_count": 2,
   "id": "39d614ee-3e6e-4ae0-afd1-2044f3fb2080",
   "metadata": {},
   "outputs": [],
   "source": [
    "# the position of lables is very important\n",
    "# it corresponds to a novel by that author within \"files\"\n",
    "# the position of the author is also relevant, as it will correspond to metrics\n",
    "# i.e. Samuel Butler's metrics are always returned in position 1\n",
    "labels = ['Virginia Woolf', 'Samuel Butler', 'Herman Melville', \n",
    "          'David Herbert Lawrence', 'Daniel Defoe', 'James Joyce']\n",
    "\n",
    "\n",
    "# names of books we have to train our machine model\n",
    "files = ['night_and_day_virginia_woolf.txt', 'the_way_of_all_flash_butler.txt',\n",
    "         'moby_dick_melville.txt', 'sons_and_lovers_lawrence.txt',\n",
    "         'robinson_crusoe_defoe.txt', 'james_joyce_ulysses.txt']\n",
    "\n",
    "# location of our books\n",
    "path = \"books/\"\n"
   ]
  },
  {
   "cell_type": "code",
   "execution_count": 4,
   "id": "d952dc14-15a4-461d-afbe-41598a8310c7",
   "metadata": {},
   "outputs": [],
   "source": [
    "data = []\n",
    "targets = []\n",
    "counter = 0\n",
    "\n",
    "# loop across all files we have downloaded\n",
    "for fname in files:\n",
    "    paras = text2paragraphs(path + fname, min_size=150) # return a book with paragraphs over 150 chars in a list\n",
    "    data.extend(paras)\n",
    "    targets += [counter] * len(paras)\n",
    "    counter += 1\n",
    "\n"
   ]
  },
  {
   "cell_type": "code",
   "execution_count": 5,
   "id": "c5ad8aae-a9ef-41b7-9dfe-385d95be9b04",
   "metadata": {},
   "outputs": [],
   "source": [
    "# cell is useless, because train_test_split will do the shuffling!\n",
    "\n",
    "import random\n",
    "\n",
    "data_targets = list(zip(data, targets))\n",
    "# create random permutation on list:\n",
    "data_targets = random.sample(data_targets, len(data_targets))\n",
    "\n",
    "data, targets = list(zip(*data_targets))\n"
   ]
  },
  {
   "cell_type": "code",
   "execution_count": 6,
   "id": "8fd33f8d-40a9-4a67-a818-d33bcf3ab332",
   "metadata": {},
   "outputs": [],
   "source": [
    "from sklearn.model_selection import train_test_split\n",
    "\n",
    "res = train_test_split(data, targets, \n",
    "                       train_size=0.8,\n",
    "                       test_size=0.2,\n",
    "                       random_state=42)\n",
    "train_data, test_data, train_targets, test_targets = res \n"
   ]
  },
  {
   "cell_type": "code",
   "execution_count": 7,
   "id": "323f5789-4292-451c-967f-e4a1f242e7d6",
   "metadata": {},
   "outputs": [
    {
     "name": "stdout",
     "output_type": "stream",
     "text": [
      "accuracy score:  0.9183451279259662\n",
      "F1-score:  0.9156617005088606\n"
     ]
    }
   ],
   "source": [
    "from sklearn.feature_extraction.text import CountVectorizer, ENGLISH_STOP_WORDS\n",
    "\n",
    "from sklearn.naive_bayes import MultinomialNB\n",
    "from sklearn import metrics\n",
    "\n",
    "vectorizer = CountVectorizer(stop_words=ENGLISH_STOP_WORDS)\n",
    "\n",
    "vectors = vectorizer.fit_transform(train_data)\n",
    "\n",
    "# creating a classifier\n",
    "classifier = MultinomialNB(alpha=.01)\n",
    "classifier.fit(vectors, train_targets)\n",
    "\n",
    "vectors_test = vectorizer.transform(test_data)\n",
    "\n",
    "predictions = classifier.predict(vectors_test)\n",
    "accuracy_score = metrics.accuracy_score(test_targets, \n",
    "                                        predictions)\n",
    "f1_score = metrics.f1_score(test_targets, \n",
    "                            predictions, \n",
    "                            average='macro')\n",
    "\n",
    "print(\"accuracy score: \", accuracy_score)\n",
    "print(\"F1-score: \", f1_score)\n"
   ]
  },
  {
   "cell_type": "code",
   "execution_count": 8,
   "id": "b2d63f26-896a-4ae0-90fa-a70093894c2e",
   "metadata": {},
   "outputs": [
    {
     "name": "stdout",
     "output_type": "stream",
     "text": [
      "[5 0 0 3 0 1 5 0 2 5 0 0 0 0 0 0 0 0 1 0 1 0 0 5 1 5 0 1 1 0 0 0 5 2 2 5 2\n",
      " 2 5 5 0 0 0 0 0 3 0 0 0 0 2 4 2 5 2 0 0 0 0 1 0 5 5 0 3 0 0 0 5 0 1 5 5 0\n",
      " 0 0 0 0 5 2 2 3 0 2 2 0 5 0 2 5 0 0 0 0 0 5 1 0 1 0 0 5 5 5 0 5 5 5 5 0 5\n",
      " 0 0 0 0 0 0 1 0 2 0 0 2 0 1 2 2 2 5 5 0 0 0 1 3 0 0 5 1 3 0 0 0 0 5 2 0 0\n",
      " 0 0 5 1 5 0 5 1 1 1 1 0 0 0 0 0 0 5 0 1 0 0 0 0 5 5 2 0 2 3 0 0 0 0 0 0 0\n",
      " 0 0 0 0 0 3 0 0 0 0 0 0 0 0 0 0 0 5 5 5 0 0 3 5 2 5 2 0 5 0 5 0 0 0 0 5 0\n",
      " 0 5 5 0 0 0 0 2 3 0 0 0 0 2 0 0 5 3 5 1 2 5 5 0 0 0 5 0 1 0 1 0 0 0 0 1 3\n",
      " 1 0 0 5 0 5 5 2 0 0 0 0 5 0 2 2 0 1 0 0 0 0 0 0 3 0 4 0 2 0 0 1 0 0 0 0 1\n",
      " 1 0 0 5 5 0 5 0 0 0 3 5 5 0 0 0 0 5 0 1 0 0 0 0 0 1 0 0 0 0 3 0 2 0 0 0 5\n",
      " 0 3 5 0 0 0 0 0 1 5 1 0 0 3 3 3 0 0 0 0 1 1 0 0 0 0 0 0 0 0 0 0 2 2 3 0 0\n",
      " 1 1 0 0 0 5 0 0 0 0 1 0 0 2 0 0 0 0 0 0 1 5 0 0 0 0 0 0 0 0]\n",
      "accuracy score:  0.595\n",
      "precision score:  0.595\n",
      "F1-score:  0.12434691745036573\n"
     ]
    }
   ],
   "source": [
    "# we want to use paragraphs from this 2nd Virginia Wolf \n",
    "paras = text2paragraphs(path + \"the_voyage_out_virginia_woolf.txt\", min_size=250)\n",
    "\n",
    "# start on paragraph 100 and go to paragraph 500\n",
    "first_para, last_para = 100, 500\n",
    "vectors_test = vectorizer.transform(paras[first_para: last_para]) # pass a list of strings that will be used to make predictions against\n",
    "#vectors_test = vectorizer.transform([\"To be or not to be\"])\n",
    "\n",
    "predictions = classifier.predict(vectors_test) # make our predictions\n",
    "print(predictions)\n",
    "targets = [0] * (last_para - first_para)\n",
    "accuracy_score = metrics.accuracy_score(targets, \n",
    "                                        predictions)\n",
    "precision_score = metrics.precision_score(targets, \n",
    "                                          predictions, \n",
    "                                          average='macro')\n",
    "\n",
    "f1_score = metrics.f1_score(targets, \n",
    "                            predictions, \n",
    "                            average='macro')\n",
    "\n",
    "print(\"accuracy score: \", accuracy_score)\n",
    "print(\"precision score: \", accuracy_score)\n",
    "print(\"F1-score: \", f1_score)\n"
   ]
  },
  {
   "cell_type": "code",
   "execution_count": 9,
   "id": "f7ead2b4-ba96-4c1c-9e9c-491a5dc3ac63",
   "metadata": {},
   "outputs": [
    {
     "name": "stdout",
     "output_type": "stream",
     "text": [
      "[[3.96914663e-007 5.57175706e-004 5.47267874e-009 4.19788729e-005\n",
      "  2.24119210e-019 9.99400443e-001]\n",
      " [9.78958071e-001 1.80597753e-002 1.42363114e-003 5.81301062e-009\n",
      "  7.41830391e-013 1.55851666e-003]\n",
      " [9.99602841e-001 1.77442619e-010 8.81357657e-012 5.25951271e-010\n",
      "  6.31573752e-016 3.97158032e-004]\n",
      " ...\n",
      " [9.99940388e-001 5.96116138e-005 7.51836256e-039 1.12817232e-027\n",
      "  6.17554877e-042 2.58654498e-034]\n",
      " [1.00000000e+000 7.22578780e-012 1.05788979e-032 4.28906432e-034\n",
      "  1.97391444e-059 1.90951666e-010]\n",
      " [1.00000000e+000 2.65521222e-048 4.93386237e-063 9.49561402e-079\n",
      "  1.03962254e-110 1.25913976e-052]]\n"
     ]
    }
   ],
   "source": [
    "# perform a probability test\n",
    "predictions = classifier.predict_proba(vectors_test)\n",
    "print(predictions)\n"
   ]
  },
  {
   "cell_type": "code",
   "execution_count": 10,
   "id": "996cbe9f-2c4f-4aad-8b46-1476e5da838a",
   "metadata": {},
   "outputs": [
    {
     "name": "stdout",
     "output_type": "stream",
     "text": [
      "[3.96914663e-07 5.57175706e-04 5.47267874e-09 4.19788729e-05\n",
      " 2.24119210e-19 9.99400443e-01] \"That's the painful thing about pets,\" said Mr. Dalloway; \"they die. The\n",
      "first sorrow I can remember was for the death of a dormouse. I regret to\n",
      "say that I sat upon it. Still, that didn't make one any the less sorry.\n",
      "Here lies the duck that Samuel Johnson sat on, eh? I was big for my\n",
      "age.\"\n",
      "[9.78958071e-01 1.80597753e-02 1.42363114e-03 5.81301062e-09\n",
      " 7.41830391e-13 1.55851666e-03] \"Please tell me--everything.\" That was what she wanted to say. He had\n",
      "drawn apart one little chink and showed astonishing treasures. It seemed\n",
      "to her incredible that a man like that should be willing to talk to her.\n",
      "He had sisters and pets, and once lived in the country. She stirred her\n",
      "tea round and round; the bubbles which swam and clustered in the cup\n",
      "seemed to her like the union of their minds.\n",
      "[9.99602841e-01 1.77442619e-10 8.81357657e-12 5.25951271e-10\n",
      " 6.31573752e-16 3.97158032e-04] The talk meanwhile raced past her, and when Richard suddenly stated in a\n",
      "jocular tone of voice, \"I'm sure Miss Vinrace, now, has secret leanings\n",
      "towards Catholicism,\" she had no idea what to answer, and Helen could\n",
      "not help laughing at the start she gave.\n",
      "[2.17809377e-01 3.74210711e-05 4.86462439e-10 7.31906961e-01\n",
      " 8.28326284e-19 5.02462409e-02] However, breakfast was over and Mrs. Dalloway was rising. \"I always\n",
      "think religion's like collecting beetles,\" she said, summing up the\n",
      "discussion as she went up the stairs with Helen. \"One person has a\n",
      "passion for black beetles; another hasn't; it's no good arguing about\n",
      "it. What's _your_ black beetle now?\"\n",
      "[1.00000000e+00 8.25369589e-43 2.86910995e-37 3.46234564e-36\n",
      " 3.49192824e-71 1.80558538e-32] It was as though a blue shadow had fallen across a pool. Their eyes\n",
      "became deeper, and their voices more cordial. Instead of joining them\n",
      "as they began to pace the deck, Rachel was indignant with the prosperous\n",
      "matrons, who made her feel outside their world and motherless, and\n",
      "turning back, she left them abruptly. She slammed the door of her room,\n",
      "and pulled out her music. It was all old music--Bach and Beethoven,\n",
      "Mozart and Purcell--the pages yellow, the engraving rough to the finger.\n",
      "In three minutes she was deep in a very difficult, very classical fugue\n",
      "in A, and over her face came a queer remote impersonal expression of\n",
      "complete absorption and anxious satisfaction. Now she stumbled; now she\n",
      "faltered and had to play the same bar twice over; but an invisible\n",
      "line seemed to string the notes together, from which rose a shape,\n",
      "a building. She was so far absorbed in this work, for it was really\n",
      "difficult to find how all these sounds should stand together, and drew\n",
      "upon the whole of her faculties, that she never heard a knock at the\n",
      "door. It was burst impulsively open, and Mrs. Dalloway stood in the room\n",
      "leaving the door open, so that a strip of the white deck and of the blue\n",
      "sea appeared through the opening. The shape of the Bach fugue crashed to\n",
      "the ground.\n",
      "[6.19887841e-03 9.72622699e-01 2.66279374e-09 8.22789371e-05\n",
      " 1.17208051e-22 2.10961408e-02] \"He wrote awfully well, didn't he?\" said Clarissa; \"--if one likes\n",
      "that kind of thing--finished his sentences and all that. _Wuthering_\n",
      "_Heights_! Ah--that's more in my line. I really couldn't exist without\n",
      "the Brontes! Don't you love them? Still, on the whole, I'd rather live\n",
      "without them than without Jane Austen.\"\n",
      "[2.15925737e-03 2.30303032e-16 2.80501855e-03 1.50435743e-08\n",
      " 1.87359398e-26 9.95035709e-01] How divine!--and yet what nonsense!\" She looked lightly round the room.\n",
      "\"I always think it's _living_, not dying, that counts. I really respect\n",
      "some snuffy old stockbroker who's gone on adding up column after column\n",
      "all his days, and trotting back to his villa at Brixton with some old\n",
      "pug dog he worships, and a dreary little wife sitting at the end of the\n",
      "table, and going off to Margate for a fortnight--I assure you I know\n",
      "heaps like that--well, they seem to me _really_ nobler than poets whom\n",
      "every one worships, just because they're geniuses and die young. But I\n",
      "don't expect _you_ to agree with me!\"\n",
      "[9.75156447e-01 1.42765705e-02 3.31999660e-12 2.55583359e-05\n",
      " 1.67825965e-12 1.05414244e-02] \"When you're my age you'll see that the world is _crammed_ with\n",
      "delightful things. I think young people make such a mistake about\n",
      "that--not letting themselves be happy. I sometimes think that happiness\n",
      "is the only thing that counts. I don't know you well enough to say, but\n",
      "I should guess you might be a little inclined to--when one's young and\n",
      "attractive--I'm going to say it!--_every_thing's at one's feet.\" She\n",
      "glanced round as much as to say, \"not only a few stuffy books and Bach.\"\n",
      "[6.35197980e-09 2.31217587e-14 9.97633319e-01 8.76561930e-12\n",
      " 2.36000448e-03 6.67026727e-06] The shores of Portugal were beginning to lose their substance; but\n",
      "the land was still the land, though at a great distance. They could\n",
      "distinguish the little towns that were sprinkled in the folds of the\n",
      "hills, and the smoke rising faintly. The towns appeared to be very small\n",
      "in comparison with the great purple mountains behind them.\n",
      "[1.92648630e-05 4.62245188e-12 1.76207829e-01 5.44458195e-10\n",
      " 4.58928575e-21 8.23772905e-01] Rachel followed her eyes and found that they rested for a second, on the\n",
      "robust figure of Richard Dalloway, who was engaged in striking a match\n",
      "on the sole of his boot; while Willoughby expounded something, which\n",
      "seemed to be of great interest to them both.\n"
     ]
    }
   ],
   "source": [
    "for i in range(0, 10):\n",
    "    print(predictions[i], paras[i+first_para])\n"
   ]
  },
  {
   "cell_type": "code",
   "execution_count": null,
   "id": "bb25ae3b-c474-4195-a68e-1de41b3015e7",
   "metadata": {},
   "outputs": [],
   "source": []
  }
 ],
 "metadata": {
  "kernelspec": {
   "display_name": "Python 3 (ipykernel)",
   "language": "python",
   "name": "python3"
  },
  "language_info": {
   "codemirror_mode": {
    "name": "ipython",
    "version": 3
   },
   "file_extension": ".py",
   "mimetype": "text/x-python",
   "name": "python",
   "nbconvert_exporter": "python",
   "pygments_lexer": "ipython3",
   "version": "3.10.6"
  }
 },
 "nbformat": 4,
 "nbformat_minor": 5
}
